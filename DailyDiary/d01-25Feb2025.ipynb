{
 "cells": [
  {
   "cell_type": "markdown",
   "metadata": {},
   "source": [
    "## Java Concepts"
   ]
  },
  {
   "cell_type": "code",
   "execution_count": null,
   "metadata": {
    "vscode": {
     "languageId": "plaintext"
    }
   },
   "outputs": [],
   "source": [
    "- What is the difference between HashMap and Map in Java - explain to me in style of Feynman using Minto Pyramid principle with examples\n",
    "- What is the import Java.util - explain to me in style of Feynman using Minto Pyramid principle with examples\n"
   ]
  },
  {
   "cell_type": "markdown",
   "metadata": {},
   "source": [
    "# Deep Research Prompts\n",
    "\n"
   ]
  },
  {
   "cell_type": "code",
   "execution_count": null,
   "metadata": {
    "vscode": {
     "languageId": "plaintext"
    }
   },
   "outputs": [],
   "source": [
    "- Using your research on AI prompting - how could I improve the following prompt while keeping the response succinct & high quality:\n",
    "What is the import Java.util - explain to me in style of Feynman using Minto Pyramid principle with examples\n",
    "    - https://www.perplexity.ai/search/using-your-research-on-ai-prom-hvQi_YbLQS2qy1sl7yX_dg\n",
    "- "
   ]
  },
  {
   "cell_type": "code",
   "execution_count": null,
   "metadata": {
    "vscode": {
     "languageId": "plaintext"
    }
   },
   "outputs": [],
   "source": []
  }
 ],
 "metadata": {
  "language_info": {
   "name": "python"
  }
 },
 "nbformat": 4,
 "nbformat_minor": 2
}
